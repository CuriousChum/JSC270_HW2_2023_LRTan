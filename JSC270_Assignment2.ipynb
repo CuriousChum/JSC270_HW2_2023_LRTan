{
  "nbformat": 4,
  "nbformat_minor": 0,
  "metadata": {
    "colab": {
      "provenance": [],
      "collapsed_sections": [
        "X0oR7u9m-wO6",
        "SXC_wB021Aie",
        "TcXDer2V2SQs",
        "AYZJjcrF3WAR",
        "aYh_G9zO8LBF",
        "Ou-Lv5jo9ULz"
      ]
    },
    "kernelspec": {
      "name": "python3",
      "display_name": "Python 3"
    }
  },
  "cells": [
    {
      "cell_type": "markdown",
      "source": [
        "<a href=\"https://colab.research.google.com/drive/1ajDFB38ksufUiXmtms4IwvqnkMUyr7dz?usp=sharing\" target=\"_parent\"><img src=\"https://colab.research.google.com/assets/colab-badge.svg\" alt=\"Open In Colab\"/></a>"
      ],
      "metadata": {
        "id": "VAimJ7FIcZei"
      }
    },
    {
      "cell_type": "markdown",
      "source": [
        "Github Link: [https://github.com/CuriousChum/JSC270_HW2_2024_LRTan](https://github.com/CuriousChum/JSC270_HW2_2024_LRTan)"
      ],
      "metadata": {
        "id": "X8x8mLsALk-K"
      }
    },
    {
      "cell_type": "markdown",
      "metadata": {
        "id": "Dx3JcBg8VZ-a"
      },
      "source": [
        "###Libraries you'll likely need"
      ]
    },
    {
      "cell_type": "code",
      "metadata": {
        "id": "3I79uCwE3Sq8"
      },
      "source": [
        "import pandas as pd\n",
        "import numpy as np\n",
        "import matplotlib.pyplot as plt\n",
        "import seaborn as sns\n",
        "from scipy import stats\n",
        "import statsmodels.api as sm\n",
        "import statsmodels.formula.api as smf"
      ],
      "execution_count": 48,
      "outputs": []
    },
    {
      "cell_type": "markdown",
      "metadata": {
        "id": "X0oR7u9m-wO6"
      },
      "source": [
        "###Importing data"
      ]
    },
    {
      "cell_type": "code",
      "metadata": {
        "id": "f3jscp2H3Yqm"
      },
      "source": [
        "income94 = pd.read_csv('https://archive.ics.uci.edu/ml/machine-learning-databases/adult/adult.data', header=None)\n",
        "income94.columns = ['age','workclass', 'fnlwgt','education','education_num','marital_status','occupation',\n",
        "                    'relationship','race','sex','capital_gain','capital_loss','hours_per_week','native_country','gross_income_group']"
      ],
      "execution_count": 49,
      "outputs": []
    },
    {
      "cell_type": "markdown",
      "source": [
        "# Initial Data Exploration"
      ],
      "metadata": {
        "id": "KrAVfiOv3Gfd"
      }
    },
    {
      "cell_type": "markdown",
      "source": [
        "### Check columns\n",
        "The data types of each column is as expected based on [https://archive.ics.uci.edu/ml/machine-learning-databases/adult/adult.names](https://archive.ics.uci.edu/ml/machine-learning-databases/adult/adult.names)"
      ],
      "metadata": {
        "id": "SXC_wB021Aie"
      }
    },
    {
      "cell_type": "code",
      "source": [
        "income94.info()"
      ],
      "metadata": {
        "colab": {
          "base_uri": "https://localhost:8080/",
          "height": 0
        },
        "id": "FdOHKBn6Yz5T",
        "outputId": "b1efde4c-5e92-461d-ae17-0c6351df0a61"
      },
      "execution_count": 50,
      "outputs": [
        {
          "output_type": "stream",
          "name": "stdout",
          "text": [
            "<class 'pandas.core.frame.DataFrame'>\n",
            "RangeIndex: 32561 entries, 0 to 32560\n",
            "Data columns (total 15 columns):\n",
            " #   Column              Non-Null Count  Dtype \n",
            "---  ------              --------------  ----- \n",
            " 0   age                 32561 non-null  int64 \n",
            " 1   workclass           32561 non-null  object\n",
            " 2   fnlwgt              32561 non-null  int64 \n",
            " 3   education           32561 non-null  object\n",
            " 4   education_num       32561 non-null  int64 \n",
            " 5   marital_status      32561 non-null  object\n",
            " 6   occupation          32561 non-null  object\n",
            " 7   relationship        32561 non-null  object\n",
            " 8   race                32561 non-null  object\n",
            " 9   sex                 32561 non-null  object\n",
            " 10  capital_gain        32561 non-null  int64 \n",
            " 11  capital_loss        32561 non-null  int64 \n",
            " 12  hours_per_week      32561 non-null  int64 \n",
            " 13  native_country      32561 non-null  object\n",
            " 14  gross_income_group  32561 non-null  object\n",
            "dtypes: int64(6), object(9)\n",
            "memory usage: 3.7+ MB\n"
          ]
        }
      ]
    },
    {
      "cell_type": "markdown",
      "source": [
        "### Checking the values in string type columns\n",
        "\n",
        "Notice that missing values in the columns are represented by \" ?\". Also, there is a whitespace in from of the string columns, we remove those as well for convenience."
      ],
      "metadata": {
        "id": "TcXDer2V2SQs"
      }
    },
    {
      "cell_type": "code",
      "source": [
        "strtypes = income94[[str(col) for col, dtype in income94.dtypes.items() if dtype == \"object\"]]"
      ],
      "metadata": {
        "id": "VtGEfUxFY9Ep"
      },
      "execution_count": 51,
      "outputs": []
    },
    {
      "cell_type": "code",
      "source": [
        "for col in strtypes:\n",
        "    print(f\"Column: {col}\")\n",
        "    print(strtypes[col].unique())\n",
        "    print(\"\\n\")\n"
      ],
      "metadata": {
        "colab": {
          "base_uri": "https://localhost:8080/",
          "height": 0
        },
        "id": "ggQiho7QZM-o",
        "outputId": "0041691e-411d-4f38-bdf5-ee427461993b"
      },
      "execution_count": 52,
      "outputs": [
        {
          "output_type": "stream",
          "name": "stdout",
          "text": [
            "Column: workclass\n",
            "[' State-gov' ' Self-emp-not-inc' ' Private' ' Federal-gov' ' Local-gov'\n",
            " ' ?' ' Self-emp-inc' ' Without-pay' ' Never-worked']\n",
            "\n",
            "\n",
            "Column: education\n",
            "[' Bachelors' ' HS-grad' ' 11th' ' Masters' ' 9th' ' Some-college'\n",
            " ' Assoc-acdm' ' Assoc-voc' ' 7th-8th' ' Doctorate' ' Prof-school'\n",
            " ' 5th-6th' ' 10th' ' 1st-4th' ' Preschool' ' 12th']\n",
            "\n",
            "\n",
            "Column: marital_status\n",
            "[' Never-married' ' Married-civ-spouse' ' Divorced'\n",
            " ' Married-spouse-absent' ' Separated' ' Married-AF-spouse' ' Widowed']\n",
            "\n",
            "\n",
            "Column: occupation\n",
            "[' Adm-clerical' ' Exec-managerial' ' Handlers-cleaners' ' Prof-specialty'\n",
            " ' Other-service' ' Sales' ' Craft-repair' ' Transport-moving'\n",
            " ' Farming-fishing' ' Machine-op-inspct' ' Tech-support' ' ?'\n",
            " ' Protective-serv' ' Armed-Forces' ' Priv-house-serv']\n",
            "\n",
            "\n",
            "Column: relationship\n",
            "[' Not-in-family' ' Husband' ' Wife' ' Own-child' ' Unmarried'\n",
            " ' Other-relative']\n",
            "\n",
            "\n",
            "Column: race\n",
            "[' White' ' Black' ' Asian-Pac-Islander' ' Amer-Indian-Eskimo' ' Other']\n",
            "\n",
            "\n",
            "Column: sex\n",
            "[' Male' ' Female']\n",
            "\n",
            "\n",
            "Column: native_country\n",
            "[' United-States' ' Cuba' ' Jamaica' ' India' ' ?' ' Mexico' ' South'\n",
            " ' Puerto-Rico' ' Honduras' ' England' ' Canada' ' Germany' ' Iran'\n",
            " ' Philippines' ' Italy' ' Poland' ' Columbia' ' Cambodia' ' Thailand'\n",
            " ' Ecuador' ' Laos' ' Taiwan' ' Haiti' ' Portugal' ' Dominican-Republic'\n",
            " ' El-Salvador' ' France' ' Guatemala' ' China' ' Japan' ' Yugoslavia'\n",
            " ' Peru' ' Outlying-US(Guam-USVI-etc)' ' Scotland' ' Trinadad&Tobago'\n",
            " ' Greece' ' Nicaragua' ' Vietnam' ' Hong' ' Ireland' ' Hungary'\n",
            " ' Holand-Netherlands']\n",
            "\n",
            "\n",
            "Column: gross_income_group\n",
            "[' <=50K' ' >50K']\n",
            "\n",
            "\n"
          ]
        }
      ]
    },
    {
      "cell_type": "code",
      "source": [
        "for col in strtypes:\n",
        "    income94[col] = income94[col].str.strip()"
      ],
      "metadata": {
        "id": "eYyuIfwQF2La"
      },
      "execution_count": 53,
      "outputs": []
    },
    {
      "cell_type": "markdown",
      "source": [
        "#### We replace these missing values with np.NaN."
      ],
      "metadata": {
        "id": "y8tCjHuv22MT"
      }
    },
    {
      "cell_type": "code",
      "source": [
        "income94.replace(\"?\", np.NaN, inplace=True)"
      ],
      "metadata": {
        "id": "ZFZRGvYfZbYE"
      },
      "execution_count": 54,
      "outputs": []
    },
    {
      "cell_type": "markdown",
      "source": [
        "### Plotting the distribution of capital_gain and capital_loss\n",
        "\n",
        "I believe we can transform these columns to categorical types since the majority of them are zero. So, we can create a 'zero' and 'nonzero' category for these."
      ],
      "metadata": {
        "id": "AYZJjcrF3WAR"
      }
    },
    {
      "cell_type": "code",
      "source": [
        "sns.histplot(income94, bins=30, x=\"capital_gain\", kde=False)\n",
        "plt.show()\n",
        "print(f'Number of nonzero values: {(income94[\"capital_gain\"] > 0).sum()}')"
      ],
      "metadata": {
        "colab": {
          "base_uri": "https://localhost:8080/",
          "height": 467
        },
        "id": "-hXBfg_VcQWu",
        "outputId": "47bb0884-b9b3-410c-d13a-4351aba0943a"
      },
      "execution_count": 55,
      "outputs": [
        {
          "output_type": "display_data",
          "data": {
            "text/plain": [
              "<Figure size 640x480 with 1 Axes>"
            ],
            "image/png": "[encoded data removed]"
          },
          "metadata": {}
        },
        {
          "output_type": "stream",
          "name": "stdout",
          "text": [
            "Number of nonzero values: 2712\n"
          ]
        }
      ]
    },
    {
      "cell_type": "code",
      "source": [
        "sns.histplot(income94, bins=30, x=\"capital_loss\", kde=False)\n",
        "plt.show()\n",
        "print(f'Number of nonzero values: {(income94[\"capital_loss\"] > 0).sum()}')"
      ],
      "metadata": {
        "colab": {
          "base_uri": "https://localhost:8080/",
          "height": 467
        },
        "id": "2_9LzB51eSRg",
        "outputId": "d1387dfb-df18-4836-a3c8-e60fd026d790"
      },
      "execution_count": 56,
      "outputs": [
        {
          "output_type": "display_data",
          "data": {
            "text/plain": [
              "<Figure size 640x480 with 1 Axes>"
            ],
            "image/png": "[encoded data removed]"
          },
          "metadata": {}
        },
        {
          "output_type": "stream",
          "name": "stdout",
          "text": [
            "Number of nonzero values: 1519\n"
          ]
        }
      ]
    },
    {
      "cell_type": "markdown",
      "source": [
        "### Add new transformed columns"
      ],
      "metadata": {
        "id": "aYh_G9zO8LBF"
      }
    },
    {
      "cell_type": "code",
      "source": [
        "income94[\"has_capital_gain\"] = (income94[\"capital_gain\"] > 0)\n",
        "income94[\"has_capital_loss\"] = (income94[\"capital_loss\"] > 0)\n",
        "\n",
        "income94.info()"
      ],
      "metadata": {
        "colab": {
          "base_uri": "https://localhost:8080/",
          "height": 0
        },
        "id": "QbvxkOYC8VmH",
        "outputId": "acc2eb29-30ca-4012-e075-34141845e94b"
      },
      "execution_count": 57,
      "outputs": [
        {
          "output_type": "stream",
          "name": "stdout",
          "text": [
            "<class 'pandas.core.frame.DataFrame'>\n",
            "RangeIndex: 32561 entries, 0 to 32560\n",
            "Data columns (total 17 columns):\n",
            " #   Column              Non-Null Count  Dtype \n",
            "---  ------              --------------  ----- \n",
            " 0   age                 32561 non-null  int64 \n",
            " 1   workclass           30725 non-null  object\n",
            " 2   fnlwgt              32561 non-null  int64 \n",
            " 3   education           32561 non-null  object\n",
            " 4   education_num       32561 non-null  int64 \n",
            " 5   marital_status      32561 non-null  object\n",
            " 6   occupation          30718 non-null  object\n",
            " 7   relationship        32561 non-null  object\n",
            " 8   race                32561 non-null  object\n",
            " 9   sex                 32561 non-null  object\n",
            " 10  capital_gain        32561 non-null  int64 \n",
            " 11  capital_loss        32561 non-null  int64 \n",
            " 12  hours_per_week      32561 non-null  int64 \n",
            " 13  native_country      31978 non-null  object\n",
            " 14  gross_income_group  32561 non-null  object\n",
            " 15  has_capital_gain    32561 non-null  bool  \n",
            " 16  has_capital_loss    32561 non-null  bool  \n",
            "dtypes: bool(2), int64(6), object(9)\n",
            "memory usage: 3.8+ MB\n"
          ]
        }
      ]
    },
    {
      "cell_type": "markdown",
      "source": [
        "### Exploring the variable *fnlwgt*\n",
        "\n",
        "Looking at histogram of *fnlwgt* and its values, we see that the spread is quite large and the data is right-skewed with a thin tail. Looking at its log10 transformed values and keeping it in the variable *log_fnlwgt*, we can see a graph that looked almost bell-shaped.\n",
        "\n",
        "Notice that the *fnlwgt* distribution seemingly vanish after the value 0.8 * 1e6. We will consider values above this threshold as outliers and remove them."
      ],
      "metadata": {
        "id": "Ou-Lv5jo9ULz"
      }
    },
    {
      "cell_type": "markdown",
      "source": [],
      "metadata": {
        "id": "kY1Gefr_jEig"
      }
    },
    {
      "cell_type": "code",
      "source": [
        "income94[\"log_fnlwgt\"] = np.log10(income94['fnlwgt'])\n",
        "sns.histplot(income94, bins=30, x=\"fnlwgt\")\n",
        "plt.show()\n",
        "sns.histplot(income94, bins=30, x=\"log_fnlwgt\")\n",
        "plt.show()"
      ],
      "metadata": {
        "colab": {
          "base_uri": "https://localhost:8080/",
          "height": 882
        },
        "id": "zQx9vkGWdDrl",
        "outputId": "208300ee-ec8a-43e8-ea81-e7d58a82b588"
      },
      "execution_count": 58,
      "outputs": [
        {
          "output_type": "display_data",
          "data": {
            "text/plain": [
              "<Figure size 640x480 with 1 Axes>"
            ],
            "image/png": "[encoded data removed]"
          },
          "metadata": {}
        },
        {
          "output_type": "display_data",
          "data": {
            "text/plain": [
              "<Figure size 640x480 with 1 Axes>"
            ],
            "image/png": "[encoded data removed]"
          },
          "metadata": {}
        }
      ]
    },
    {
      "cell_type": "markdown",
      "source": [
        "##### After removing outliers\n",
        "\n",
        "kde is added for shape estimate."
      ],
      "metadata": {
        "id": "yQDyahw2HM3f"
      }
    },
    {
      "cell_type": "code",
      "source": [
        "income94[\"fnlwgt\"] = income94[\"fnlwgt\"].apply(lambda x: x if x <= 0.8 * 1e6 else np.NaN)\n",
        "income94[\"log_fnlwgt\"] = income94[\"fnlwgt\"].apply(np.log10)\n",
        "\n",
        "sns.histplot(income94, bins=30, x=\"fnlwgt\", kde=True)\n",
        "plt.show()\n",
        "sns.histplot(income94, bins=30, x=\"log_fnlwgt\", kde=True)\n",
        "plt.show()"
      ],
      "metadata": {
        "colab": {
          "base_uri": "https://localhost:8080/",
          "height": 886
        },
        "id": "QRJGNh7eFam5",
        "outputId": "9355790c-fd4f-4e29-87fa-9a5de00aa831"
      },
      "execution_count": 59,
      "outputs": [
        {
          "output_type": "display_data",
          "data": {
            "text/plain": [
              "<Figure size 640x480 with 1 Axes>"
            ],
            "image/png": "[encoded data removed]"
          },
          "metadata": {}
        },
        {
          "output_type": "display_data",
          "data": {
            "text/plain": [
              "<Figure size 640x480 with 1 Axes>"
            ],
            "image/png": "[encoded data removed]"
          },
          "metadata": {}
        }
      ]
    },
    {
      "cell_type": "markdown",
      "source": [
        "### Comparison between the sexes"
      ],
      "metadata": {
        "id": "s0t6c9q_jRGy"
      }
    },
    {
      "cell_type": "markdown",
      "source": [
        "Comparing the violin plots of the *fnlwgt* and *log_fnlwgt* with respect to the sexes, the plot are identical. Thus, the distribution for each sexes are identical."
      ],
      "metadata": {
        "id": "hUEXfvjmClLw"
      }
    },
    {
      "cell_type": "code",
      "source": [
        "sns.violinplot(income94, y=\"fnlwgt\", x=\"sex\")\n",
        "plt.show()\n",
        "sns.violinplot(income94, y=\"log_fnlwgt\", x=\"sex\")\n",
        "plt.show()"
      ],
      "metadata": {
        "colab": {
          "base_uri": "https://localhost:8080/",
          "height": 881
        },
        "id": "xfq6r4vP-tNA",
        "outputId": "f7a9c7f0-a7c2-486f-afcc-1b927bd00754"
      },
      "execution_count": 60,
      "outputs": [
        {
          "output_type": "display_data",
          "data": {
            "text/plain": [
              "<Figure size 640x480 with 1 Axes>"
            ],
            "image/png": "[encoded data removed]"
          },
          "metadata": {}
        },
        {
          "output_type": "display_data",
          "data": {
            "text/plain": [
              "<Figure size 640x480 with 1 Axes>"
            ],
            "image/png": "[encoded data removed]"
          },
          "metadata": {}
        }
      ]
    },
    {
      "cell_type": "markdown",
      "source": [
        "Looking directly at the statistics of the data, we can see that they are also\n",
        "identical, only there are approx. two times as much male data points than female."
      ],
      "metadata": {
        "id": "mXqZfeVlHebB"
      }
    },
    {
      "cell_type": "code",
      "source": [
        "income94[[\"sex\", \"fnlwgt\", \"log_fnlwgt\"]].groupby(\"sex\").describe().T"
      ],
      "metadata": {
        "colab": {
          "base_uri": "https://localhost:8080/",
          "height": 551
        },
        "id": "xbq-9Izm-wIQ",
        "outputId": "f02355e5-4835-4c70-c022-b4bda6b367a9"
      },
      "execution_count": 61,
      "outputs": [
        {
          "output_type": "execute_result",
          "data": {
            "text/plain": [
              "sex                      Female           Male\n",
              "fnlwgt     count   10760.000000   21772.000000\n",
              "           mean   184880.186338  191087.994764\n",
              "           std     99184.468094  103978.408124\n",
              "           min     12285.000000   13769.000000\n",
              "           25%    117350.500000  118116.250000\n",
              "           50%    176046.500000  180087.500000\n",
              "           75%    227988.000000  240861.500000\n",
              "           max    799281.000000  791084.000000\n",
              "log_fnlwgt count   10760.000000   21772.000000\n",
              "           mean        5.196124       5.207553\n",
              "           std         0.269229       0.274773\n",
              "           min         4.089375       4.138902\n",
              "           25%         5.069485       5.072310\n",
              "           50%         5.245627       5.255484\n",
              "           75%         5.357912       5.381767\n",
              "           max         5.902699       5.898223"
            ],
            "text/html": [
              "\n",
              "  <div id=\"df-103715eb-0590-4d5e-bf8a-fb140a2ab017\" class=\"colab-df-container\">\n",
              "    <div>\n",
              "<style scoped>\n",
              "    .dataframe tbody tr th:only-of-type {\n",
              "        vertical-align: middle;\n",
              "    }\n",
              "\n",
              "    .dataframe tbody tr th {\n",
              "        vertical-align: top;\n",
              "    }\n",
              "\n",
              "    .dataframe thead th {\n",
              "        text-align: right;\n",
              "    }\n",
              "</style>\n",
              "<table border=\"1\" class=\"dataframe\">\n",
              "  <thead>\n",
              "    <tr style=\"text-align: right;\">\n",
              "      <th></th>\n",
              "      <th>sex</th>\n",
              "      <th>Female</th>\n",
              "      <th>Male</th>\n",
              "    </tr>\n",
              "  </thead>\n",
              "  <tbody>\n",
              "    <tr>\n",
              "      <th rowspan=\"8\" valign=\"top\">fnlwgt</th>\n",
              "      <th>count</th>\n",
              "      <td>10760.000000</td>\n",
              "      <td>21772.000000</td>\n",
              "    </tr>\n",
              "    <tr>\n",
              "      <th>mean</th>\n",
              "      <td>184880.186338</td>\n",
              "      <td>191087.994764</td>\n",
              "    </tr>\n",
              "    <tr>\n",
              "      <th>std</th>\n",
              "      <td>99184.468094</td>\n",
              "      <td>103978.408124</td>\n",
              "    </tr>\n",
              "    <tr>\n",
              "      <th>min</th>\n",
              "      <td>12285.000000</td>\n",
              "      <td>13769.000000</td>\n",
              "    </tr>\n",
              "    <tr>\n",
              "      <th>25%</th>\n",
              "      <td>117350.500000</td>\n",
              "      <td>118116.250000</td>\n",
              "    </tr>\n",
              "    <tr>\n",
              "      <th>50%</th>\n",
              "      <td>176046.500000</td>\n",
              "      <td>180087.500000</td>\n",
              "    </tr>\n",
              "    <tr>\n",
              "      <th>75%</th>\n",
              "      <td>227988.000000</td>\n",
              "      <td>240861.500000</td>\n",
              "    </tr>\n",
              "    <tr>\n",
              "      <th>max</th>\n",
              "      <td>799281.000000</td>\n",
              "      <td>791084.000000</td>\n",
              "    </tr>\n",
              "    <tr>\n",
              "      <th rowspan=\"8\" valign=\"top\">log_fnlwgt</th>\n",
              "      <th>count</th>\n",
              "      <td>10760.000000</td>\n",
              "      <td>21772.000000</td>\n",
              "    </tr>\n",
              "    <tr>\n",
              "      <th>mean</th>\n",
              "      <td>5.196124</td>\n",
              "      <td>5.207553</td>\n",
              "    </tr>\n",
              "    <tr>\n",
              "      <th>std</th>\n",
              "      <td>0.269229</td>\n",
              "      <td>0.274773</td>\n",
              "    </tr>\n",
              "    <tr>\n",
              "      <th>min</th>\n",
              "      <td>4.089375</td>\n",
              "      <td>4.138902</td>\n",
              "    </tr>\n",
              "    <tr>\n",
              "      <th>25%</th>\n",
              "      <td>5.069485</td>\n",
              "      <td>5.072310</td>\n",
              "    </tr>\n",
              "    <tr>\n",
              "      <th>50%</th>\n",
              "      <td>5.245627</td>\n",
              "      <td>5.255484</td>\n",
              "    </tr>\n",
              "    <tr>\n",
              "      <th>75%</th>\n",
              "      <td>5.357912</td>\n",
              "      <td>5.381767</td>\n",
              "    </tr>\n",
              "    <tr>\n",
              "      <th>max</th>\n",
              "      <td>5.902699</td>\n",
              "      <td>5.898223</td>\n",
              "    </tr>\n",
              "  </tbody>\n",
              "</table>\n",
              "</div>\n",
              "    <div class=\"colab-df-buttons\">\n",
              "\n",
              "  <div class=\"colab-df-container\">\n",
              "    <button class=\"colab-df-convert\" onclick=\"convertToInteractive('df-103715eb-0590-4d5e-bf8a-fb140a2ab017')\"\n",
              "            title=\"Convert this dataframe to an interactive table.\"\n",
              "            style=\"display:none;\">\n",
              "\n",
              "  <svg xmlns=\"http://www.w3.org/2000/svg\" height=\"24px\" viewBox=\"0 -960 960 960\">\n",
              "    <path d=\"M120-120v-720h720v720H120Zm60-500h600v-160H180v160Zm220 220h160v-160H400v160Zm0 220h160v-160H400v160ZM180-400h160v-160H180v160Zm440 0h160v-160H620v160ZM180-180h160v-160H180v160Zm440 0h160v-160H620v160Z\"/>\n",
              "  </svg>\n",
              "    </button>\n",
              "\n",
              "  <style>\n",
              "    .colab-df-container {\n",
              "      display:flex;\n",
              "      gap: 12px;\n",
              "    }\n",
              "\n",
              "    .colab-df-convert {\n",
              "      background-color: #E8F0FE;\n",
              "      border: none;\n",
              "      border-radius: 50%;\n",
              "      cursor: pointer;\n",
              "      display: none;\n",
              "      fill: #1967D2;\n",
              "      height: 32px;\n",
              "      padding: 0 0 0 0;\n",
              "      width: 32px;\n",
              "    }\n",
              "\n",
              "    .colab-df-convert:hover {\n",
              "      background-color: #E2EBFA;\n",
              "      box-shadow: 0px 1px 2px rgba(60, 64, 67, 0.3), 0px 1px 3px 1px rgba(60, 64, 67, 0.15);\n",
              "      fill: #174EA6;\n",
              "    }\n",
              "\n",
              "    .colab-df-buttons div {\n",
              "      margin-bottom: 4px;\n",
              "    }\n",
              "\n",
              "    [theme=dark] .colab-df-convert {\n",
              "      background-color: #3B4455;\n",
              "      fill: #D2E3FC;\n",
              "    }\n",
              "\n",
              "    [theme=dark] .colab-df-convert:hover {\n",
              "      background-color: #434B5C;\n",
              "      box-shadow: 0px 1px 3px 1px rgba(0, 0, 0, 0.15);\n",
              "      filter: drop-shadow(0px 1px 2px rgba(0, 0, 0, 0.3));\n",
              "      fill: #FFFFFF;\n",
              "    }\n",
              "  </style>\n",
              "\n",
              "    <script>\n",
              "      const buttonEl =\n",
              "        document.querySelector('#df-103715eb-0590-4d5e-bf8a-fb140a2ab017 button.colab-df-convert');\n",
              "      buttonEl.style.display =\n",
              "        google.colab.kernel.accessAllowed ? 'block' : 'none';\n",
              "\n",
              "      async function convertToInteractive(key) {\n",
              "        const element = document.querySelector('#df-103715eb-0590-4d5e-bf8a-fb140a2ab017');\n",
              "        const dataTable =\n",
              "          await google.colab.kernel.invokeFunction('convertToInteractive',\n",
              "                                                    [key], {});\n",
              "        if (!dataTable) return;\n",
              "\n",
              "        const docLinkHtml = 'Like what you see? Visit the ' +\n",
              "          '<a target=\"_blank\" href=https://colab.research.google.com/notebooks/data_table.ipynb>data table notebook</a>'\n",
              "          + ' to learn more about interactive tables.';\n",
              "        element.innerHTML = '';\n",
              "        dataTable['output_type'] = 'display_data';\n",
              "        await google.colab.output.renderOutput(dataTable, element);\n",
              "        const docLink = document.createElement('div');\n",
              "        docLink.innerHTML = docLinkHtml;\n",
              "        element.appendChild(docLink);\n",
              "      }\n",
              "    </script>\n",
              "  </div>\n",
              "\n",
              "\n",
              "<div id=\"df-235aec27-f6f6-41e4-9cdd-c87d38435aac\">\n",
              "  <button class=\"colab-df-quickchart\" onclick=\"quickchart('df-235aec27-f6f6-41e4-9cdd-c87d38435aac')\"\n",
              "            title=\"Suggest charts\"\n",
              "            style=\"display:none;\">\n",
              "\n",
              "<svg xmlns=\"http://www.w3.org/2000/svg\" height=\"24px\"viewBox=\"0 0 24 24\"\n",
              "     width=\"24px\">\n",
              "    <g>\n",
              "        <path d=\"M19 3H5c-1.1 0-2 .9-2 2v14c0 1.1.9 2 2 2h14c1.1 0 2-.9 2-2V5c0-1.1-.9-2-2-2zM9 17H7v-7h2v7zm4 0h-2V7h2v10zm4 0h-2v-4h2v4z\"/>\n",
              "    </g>\n",
              "</svg>\n",
              "  </button>\n",
              "\n",
              "<style>\n",
              "  .colab-df-quickchart {\n",
              "      --bg-color: #E8F0FE;\n",
              "      --fill-color: #1967D2;\n",
              "      --hover-bg-color: #E2EBFA;\n",
              "      --hover-fill-color: #174EA6;\n",
              "      --disabled-fill-color: #AAA;\n",
              "      --disabled-bg-color: #DDD;\n",
              "  }\n",
              "\n",
              "  [theme=dark] .colab-df-quickchart {\n",
              "      --bg-color: #3B4455;\n",
              "      --fill-color: #D2E3FC;\n",
              "      --hover-bg-color: #434B5C;\n",
              "      --hover-fill-color: #FFFFFF;\n",
              "      --disabled-bg-color: #3B4455;\n",
              "      --disabled-fill-color: #666;\n",
              "  }\n",
              "\n",
              "  .colab-df-quickchart {\n",
              "    background-color: var(--bg-color);\n",
              "    border: none;\n",
              "    border-radius: 50%;\n",
              "    cursor: pointer;\n",
              "    display: none;\n",
              "    fill: var(--fill-color);\n",
              "    height: 32px;\n",
              "    padding: 0;\n",
              "    width: 32px;\n",
              "  }\n",
              "\n",
              "  .colab-df-quickchart:hover {\n",
              "    background-color: var(--hover-bg-color);\n",
              "    box-shadow: 0 1px 2px rgba(60, 64, 67, 0.3), 0 1px 3px 1px rgba(60, 64, 67, 0.15);\n",
              "    fill: var(--button-hover-fill-color);\n",
              "  }\n",
              "\n",
              "  .colab-df-quickchart-complete:disabled,\n",
              "  .colab-df-quickchart-complete:disabled:hover {\n",
              "    background-color: var(--disabled-bg-color);\n",
              "    fill: var(--disabled-fill-color);\n",
              "    box-shadow: none;\n",
              "  }\n",
              "\n",
              "  .colab-df-spinner {\n",
              "    border: 2px solid var(--fill-color);\n",
              "    border-color: transparent;\n",
              "    border-bottom-color: var(--fill-color);\n",
              "    animation:\n",
              "      spin 1s steps(1) infinite;\n",
              "  }\n",
              "\n",
              "  @keyframes spin {\n",
              "    0% {\n",
              "      border-color: transparent;\n",
              "      border-bottom-color: var(--fill-color);\n",
              "      border-left-color: var(--fill-color);\n",
              "    }\n",
              "    20% {\n",
              "      border-color: transparent;\n",
              "      border-left-color: var(--fill-color);\n",
              "      border-top-color: var(--fill-color);\n",
              "    }\n",
              "    30% {\n",
              "      border-color: transparent;\n",
              "      border-left-color: var(--fill-color);\n",
              "      border-top-color: var(--fill-color);\n",
              "      border-right-color: var(--fill-color);\n",
              "    }\n",
              "    40% {\n",
              "      border-color: transparent;\n",
              "      border-right-color: var(--fill-color);\n",
              "      border-top-color: var(--fill-color);\n",
              "    }\n",
              "    60% {\n",
              "      border-color: transparent;\n",
              "      border-right-color: var(--fill-color);\n",
              "    }\n",
              "    80% {\n",
              "      border-color: transparent;\n",
              "      border-right-color: var(--fill-color);\n",
              "      border-bottom-color: var(--fill-color);\n",
              "    }\n",
              "    90% {\n",
              "      border-color: transparent;\n",
              "      border-bottom-color: var(--fill-color);\n",
              "    }\n",
              "  }\n",
              "</style>\n",
              "\n",
              "  <script>\n",
              "    async function quickchart(key) {\n",
              "      const quickchartButtonEl =\n",
              "        document.querySelector('#' + key + ' button');\n",
              "      quickchartButtonEl.disabled = true;  // To prevent multiple clicks.\n",
              "      quickchartButtonEl.classList.add('colab-df-spinner');\n",
              "      try {\n",
              "        const charts = await google.colab.kernel.invokeFunction(\n",
              "            'suggestCharts', [key], {});\n",
              "      } catch (error) {\n",
              "        console.error('Error during call to suggestCharts:', error);\n",
              "      }\n",
              "      quickchartButtonEl.classList.remove('colab-df-spinner');\n",
              "      quickchartButtonEl.classList.add('colab-df-quickchart-complete');\n",
              "    }\n",
              "    (() => {\n",
              "      let quickchartButtonEl =\n",
              "        document.querySelector('#df-235aec27-f6f6-41e4-9cdd-c87d38435aac button');\n",
              "      quickchartButtonEl.style.display =\n",
              "        google.colab.kernel.accessAllowed ? 'block' : 'none';\n",
              "    })();\n",
              "  </script>\n",
              "</div>\n",
              "\n",
              "    </div>\n",
              "  </div>\n"
            ],
            "application/vnd.google.colaboratory.intrinsic+json": {
              "type": "dataframe",
              "summary": "{\n  \"name\": \"income94[[\\\"sex\\\", \\\"fnlwgt\\\", \\\"log_fnlwgt\\\"]]\",\n  \"rows\": 16,\n  \"fields\": [\n    {\n      \"column\": \"Female\",\n      \"properties\": {\n        \"dtype\": \"number\",\n        \"std\": 202020.88249017872,\n        \"min\": 0.26922927237492933,\n        \"max\": 799281.0,\n        \"samples\": [\n          0.26922927237492933,\n          5.0694849369621044,\n          10760.0\n        ],\n        \"num_unique_values\": 15,\n        \"semantic_type\": \"\",\n        \"description\": \"\"\n      }\n    },\n    {\n      \"column\": \"Male\",\n      \"properties\": {\n        \"dtype\": \"number\",\n        \"std\": 200289.2716775336,\n        \"min\": 0.2747728157400756,\n        \"max\": 791084.0,\n        \"samples\": [\n          0.2747728157400756,\n          5.072309650011028,\n          21772.0\n        ],\n        \"num_unique_values\": 15,\n        \"semantic_type\": \"\",\n        \"description\": \"\"\n      }\n    }\n  ]\n}"
            }
          },
          "metadata": {},
          "execution_count": 61
        }
      ]
    },
    {
      "cell_type": "markdown",
      "source": [
        "# Correlation"
      ],
      "metadata": {
        "id": "tx2OJ4ofH0k2"
      }
    },
    {
      "cell_type": "markdown",
      "source": [
        "### Finding correlations between *age*, *education_num*, and *hours_per_week*\n",
        "Looking at the correlation matrix and heatmap, there seem to be little correlation between the variables, with the largest correlation being between *hours_per_week* and *education_num*"
      ],
      "metadata": {
        "id": "hur0qUdaIPI8"
      }
    },
    {
      "cell_type": "code",
      "source": [
        "subdf = income94[[\"age\", \"education_num\", \"hours_per_week\"]]\n",
        "\n",
        "sns.heatmap(subdf.corr(), annot=True, cmap=\"coolwarm\", fmt=\".3f\")\n",
        "plt.show()"
      ],
      "metadata": {
        "id": "gH3FTxDVoipA",
        "colab": {
          "base_uri": "https://localhost:8080/",
          "height": 435
        },
        "outputId": "b9f79ee8-b9e1-42a1-8916-63d9861c9e38"
      },
      "execution_count": 62,
      "outputs": [
        {
          "output_type": "display_data",
          "data": {
            "text/plain": [
              "<Figure size 640x480 with 2 Axes>"
            ],
            "image/png": "[encoded data removed]"
          },
          "metadata": {}
        }
      ]
    },
    {
      "cell_type": "markdown",
      "source": [
        "We perform a test with the 'pearsonr' function from scipy.stats. This function returns the correlation coefficient and the p value. Based on [the documentation](https://docs.scipy.org/doc/scipy/reference/generated/scipy.stats.pearsonr.html#r8c6348c62346-3), the p value is obtained from the hypothesis test with null hypothesis \"the distribution underlying the variables are uncorrelated and normally distributed\". Notice p_val << 0.05, so we can reject the null.\n",
        "\n",
        "Furthermore, performing an OLS regression shows the f-statistic to be << 0, so we can reject the null hypothesis of \"the coefficients of all the predictor variables in the full model are jointly equal to zero\" used for the f-test.\n"
      ],
      "metadata": {
        "id": "86WwFMAksyD2"
      }
    },
    {
      "cell_type": "code",
      "source": [
        "pearson_coef, p_val = stats.pearsonr(income94.education_num, income94.hours_per_week)\n",
        "\n",
        "print(f\"The correlation between education_num and hours_per_week is {pearson_coef:.3f}, with corresponding p value {p_val}.\")\n",
        "\n",
        "print(\"\\n\")\n",
        "print(\"Performing an OLS regression on the variables, we have\")\n",
        "reg = smf.ols(\"education_num ~ hours_per_week\", data=income94).fit()\n",
        "print(reg.summary())"
      ],
      "metadata": {
        "colab": {
          "base_uri": "https://localhost:8080/",
          "height": 0
        },
        "id": "a-8h9gD7k5gF",
        "outputId": "cabce915-116a-4d14-9230-3d0bd6ac0b4f"
      },
      "execution_count": 63,
      "outputs": [
        {
          "output_type": "stream",
          "name": "stdout",
          "text": [
            "The correlation between education_num and hours_per_week is 0.148, with corresponding p value 4.236647478996013e-159.\n",
            "\n",
            "\n",
            "Performing an OLS regression on the variables, we have\n",
            "                            OLS Regression Results                            \n",
            "==============================================================================\n",
            "Dep. Variable:          education_num   R-squared:                       0.022\n",
            "Model:                            OLS   Adj. R-squared:                  0.022\n",
            "Method:                 Least Squares   F-statistic:                     730.4\n",
            "Date:                Fri, 16 Feb 2024   Prob (F-statistic):          4.24e-159\n",
            "Time:                        18:30:38   Log-Likelihood:                -76609.\n",
            "No. Observations:               32561   AIC:                         1.532e+05\n",
            "Df Residuals:                   32559   BIC:                         1.532e+05\n",
            "Df Model:                           1                                         \n",
            "Covariance Type:            nonrobust                                         \n",
            "==================================================================================\n",
            "                     coef    std err          t      P>|t|      [0.025      0.975]\n",
            "----------------------------------------------------------------------------------\n",
            "Intercept          8.8327      0.048    182.931      0.000       8.738       8.927\n",
            "hours_per_week     0.0309      0.001     27.026      0.000       0.029       0.033\n",
            "==============================================================================\n",
            "Omnibus:                      963.317   Durbin-Watson:                   1.995\n",
            "Prob(Omnibus):                  0.000   Jarque-Bera (JB):             1259.219\n",
            "Skew:                          -0.345   Prob(JB):                    3.67e-274\n",
            "Kurtosis:                       3.673   Cond. No.                         145.\n",
            "==============================================================================\n",
            "\n",
            "Notes:\n",
            "[1] Standard Errors assume that the covariance matrix of the errors is correctly specified.\n"
          ]
        }
      ]
    },
    {
      "cell_type": "markdown",
      "source": [
        "### Computing the Covariance Matrix\n",
        "\n",
        "Notice that the sample variance of hours_per_week is much greater than education_num. Furthermore, the sample covariance between the variables is positive, but small relative to the sample variances.\n",
        "\n",
        "This is in line with the previously calculated correlation being quite small (0.148) since the sample correlation coeff is\n",
        "$$ r_{XY} = \\frac{cov(X,Y)}{s_X s_Y}$$\n",
        "considering sample covariance."
      ],
      "metadata": {
        "id": "tMKcQaApx1Sm"
      }
    },
    {
      "cell_type": "code",
      "source": [
        "subdf[[\"education_num\", \"hours_per_week\"]].cov()"
      ],
      "metadata": {
        "colab": {
          "base_uri": "https://localhost:8080/",
          "height": 112
        },
        "id": "Z6ekffofsYs8",
        "outputId": "96e5b04e-f2cf-49ca-dfcc-d416ebfef758"
      },
      "execution_count": 64,
      "outputs": [
        {
          "output_type": "execute_result",
          "data": {
            "text/plain": [
              "                education_num  hours_per_week\n",
              "education_num        6.618890        4.705338\n",
              "hours_per_week       4.705338      152.458995"
            ],
            "text/html": [
              "\n",
              "  <div id=\"df-704b35a9-c5b8-4a0c-83c0-54abda6aafe9\" class=\"colab-df-container\">\n",
              "    <div>\n",
              "<style scoped>\n",
              "    .dataframe tbody tr th:only-of-type {\n",
              "        vertical-align: middle;\n",
              "    }\n",
              "\n",
              "    .dataframe tbody tr th {\n",
              "        vertical-align: top;\n",
              "    }\n",
              "\n",
              "    .dataframe thead th {\n",
              "        text-align: right;\n",
              "    }\n",
              "</style>\n",
              "<table border=\"1\" class=\"dataframe\">\n",
              "  <thead>\n",
              "    <tr style=\"text-align: right;\">\n",
              "      <th></th>\n",
              "      <th>education_num</th>\n",
              "      <th>hours_per_week</th>\n",
              "    </tr>\n",
              "  </thead>\n",
              "  <tbody>\n",
              "    <tr>\n",
              "      <th>education_num</th>\n",
              "      <td>6.618890</td>\n",
              "      <td>4.705338</td>\n",
              "    </tr>\n",
              "    <tr>\n",
              "      <th>hours_per_week</th>\n",
              "      <td>4.705338</td>\n",
              "      <td>152.458995</td>\n",
              "    </tr>\n",
              "  </tbody>\n",
              "</table>\n",
              "</div>\n",
              "    <div class=\"colab-df-buttons\">\n",
              "\n",
              "  <div class=\"colab-df-container\">\n",
              "    <button class=\"colab-df-convert\" onclick=\"convertToInteractive('df-704b35a9-c5b8-4a0c-83c0-54abda6aafe9')\"\n",
              "            title=\"Convert this dataframe to an interactive table.\"\n",
              "            style=\"display:none;\">\n",
              "\n",
              "  <svg xmlns=\"http://www.w3.org/2000/svg\" height=\"24px\" viewBox=\"0 -960 960 960\">\n",
              "    <path d=\"M120-120v-720h720v720H120Zm60-500h600v-160H180v160Zm220 220h160v-160H400v160Zm0 220h160v-160H400v160ZM180-400h160v-160H180v160Zm440 0h160v-160H620v160ZM180-180h160v-160H180v160Zm440 0h160v-160H620v160Z\"/>\n",
              "  </svg>\n",
              "    </button>\n",
              "\n",
              "  <style>\n",
              "    .colab-df-container {\n",
              "      display:flex;\n",
              "      gap: 12px;\n",
              "    }\n",
              "\n",
              "    .colab-df-convert {\n",
              "      background-color: #E8F0FE;\n",
              "      border: none;\n",
              "      border-radius: 50%;\n",
              "      cursor: pointer;\n",
              "      display: none;\n",
              "      fill: #1967D2;\n",
              "      height: 32px;\n",
              "      padding: 0 0 0 0;\n",
              "      width: 32px;\n",
              "    }\n",
              "\n",
              "    .colab-df-convert:hover {\n",
              "      background-color: #E2EBFA;\n",
              "      box-shadow: 0px 1px 2px rgba(60, 64, 67, 0.3), 0px 1px 3px 1px rgba(60, 64, 67, 0.15);\n",
              "      fill: #174EA6;\n",
              "    }\n",
              "\n",
              "    .colab-df-buttons div {\n",
              "      margin-bottom: 4px;\n",
              "    }\n",
              "\n",
              "    [theme=dark] .colab-df-convert {\n",
              "      background-color: #3B4455;\n",
              "      fill: #D2E3FC;\n",
              "    }\n",
              "\n",
              "    [theme=dark] .colab-df-convert:hover {\n",
              "      background-color: #434B5C;\n",
              "      box-shadow: 0px 1px 3px 1px rgba(0, 0, 0, 0.15);\n",
              "      filter: drop-shadow(0px 1px 2px rgba(0, 0, 0, 0.3));\n",
              "      fill: #FFFFFF;\n",
              "    }\n",
              "  </style>\n",
              "\n",
              "    <script>\n",
              "      const buttonEl =\n",
              "        document.querySelector('#df-704b35a9-c5b8-4a0c-83c0-54abda6aafe9 button.colab-df-convert');\n",
              "      buttonEl.style.display =\n",
              "        google.colab.kernel.accessAllowed ? 'block' : 'none';\n",
              "\n",
              "      async function convertToInteractive(key) {\n",
              "        const element = document.querySelector('#df-704b35a9-c5b8-4a0c-83c0-54abda6aafe9');\n",
              "        const dataTable =\n",
              "          await google.colab.kernel.invokeFunction('convertToInteractive',\n",
              "                                                    [key], {});\n",
              "        if (!dataTable) return;\n",
              "\n",
              "        const docLinkHtml = 'Like what you see? Visit the ' +\n",
              "          '<a target=\"_blank\" href=https://colab.research.google.com/notebooks/data_table.ipynb>data table notebook</a>'\n",
              "          + ' to learn more about interactive tables.';\n",
              "        element.innerHTML = '';\n",
              "        dataTable['output_type'] = 'display_data';\n",
              "        await google.colab.output.renderOutput(dataTable, element);\n",
              "        const docLink = document.createElement('div');\n",
              "        docLink.innerHTML = docLinkHtml;\n",
              "        element.appendChild(docLink);\n",
              "      }\n",
              "    </script>\n",
              "  </div>\n",
              "\n",
              "\n",
              "<div id=\"df-27cf5864-7e59-4158-98e8-6977483c0d21\">\n",
              "  <button class=\"colab-df-quickchart\" onclick=\"quickchart('df-27cf5864-7e59-4158-98e8-6977483c0d21')\"\n",
              "            title=\"Suggest charts\"\n",
              "            style=\"display:none;\">\n",
              "\n",
              "<svg xmlns=\"http://www.w3.org/2000/svg\" height=\"24px\"viewBox=\"0 0 24 24\"\n",
              "     width=\"24px\">\n",
              "    <g>\n",
              "        <path d=\"M19 3H5c-1.1 0-2 .9-2 2v14c0 1.1.9 2 2 2h14c1.1 0 2-.9 2-2V5c0-1.1-.9-2-2-2zM9 17H7v-7h2v7zm4 0h-2V7h2v10zm4 0h-2v-4h2v4z\"/>\n",
              "    </g>\n",
              "</svg>\n",
              "  </button>\n",
              "\n",
              "<style>\n",
              "  .colab-df-quickchart {\n",
              "      --bg-color: #E8F0FE;\n",
              "      --fill-color: #1967D2;\n",
              "      --hover-bg-color: #E2EBFA;\n",
              "      --hover-fill-color: #174EA6;\n",
              "      --disabled-fill-color: #AAA;\n",
              "      --disabled-bg-color: #DDD;\n",
              "  }\n",
              "\n",
              "  [theme=dark] .colab-df-quickchart {\n",
              "      --bg-color: #3B4455;\n",
              "      --fill-color: #D2E3FC;\n",
              "      --hover-bg-color: #434B5C;\n",
              "      --hover-fill-color: #FFFFFF;\n",
              "      --disabled-bg-color: #3B4455;\n",
              "      --disabled-fill-color: #666;\n",
              "  }\n",
              "\n",
              "  .colab-df-quickchart {\n",
              "    background-color: var(--bg-color);\n",
              "    border: none;\n",
              "    border-radius: 50%;\n",
              "    cursor: pointer;\n",
              "    display: none;\n",
              "    fill: var(--fill-color);\n",
              "    height: 32px;\n",
              "    padding: 0;\n",
              "    width: 32px;\n",
              "  }\n",
              "\n",
              "  .colab-df-quickchart:hover {\n",
              "    background-color: var(--hover-bg-color);\n",
              "    box-shadow: 0 1px 2px rgba(60, 64, 67, 0.3), 0 1px 3px 1px rgba(60, 64, 67, 0.15);\n",
              "    fill: var(--button-hover-fill-color);\n",
              "  }\n",
              "\n",
              "  .colab-df-quickchart-complete:disabled,\n",
              "  .colab-df-quickchart-complete:disabled:hover {\n",
              "    background-color: var(--disabled-bg-color);\n",
              "    fill: var(--disabled-fill-color);\n",
              "    box-shadow: none;\n",
              "  }\n",
              "\n",
              "  .colab-df-spinner {\n",
              "    border: 2px solid var(--fill-color);\n",
              "    border-color: transparent;\n",
              "    border-bottom-color: var(--fill-color);\n",
              "    animation:\n",
              "      spin 1s steps(1) infinite;\n",
              "  }\n",
              "\n",
              "  @keyframes spin {\n",
              "    0% {\n",
              "      border-color: transparent;\n",
              "      border-bottom-color: var(--fill-color);\n",
              "      border-left-color: var(--fill-color);\n",
              "    }\n",
              "    20% {\n",
              "      border-color: transparent;\n",
              "      border-left-color: var(--fill-color);\n",
              "      border-top-color: var(--fill-color);\n",
              "    }\n",
              "    30% {\n",
              "      border-color: transparent;\n",
              "      border-left-color: var(--fill-color);\n",
              "      border-top-color: var(--fill-color);\n",
              "      border-right-color: var(--fill-color);\n",
              "    }\n",
              "    40% {\n",
              "      border-color: transparent;\n",
              "      border-right-color: var(--fill-color);\n",
              "      border-top-color: var(--fill-color);\n",
              "    }\n",
              "    60% {\n",
              "      border-color: transparent;\n",
              "      border-right-color: var(--fill-color);\n",
              "    }\n",
              "    80% {\n",
              "      border-color: transparent;\n",
              "      border-right-color: var(--fill-color);\n",
              "      border-bottom-color: var(--fill-color);\n",
              "    }\n",
              "    90% {\n",
              "      border-color: transparent;\n",
              "      border-bottom-color: var(--fill-color);\n",
              "    }\n",
              "  }\n",
              "</style>\n",
              "\n",
              "  <script>\n",
              "    async function quickchart(key) {\n",
              "      const quickchartButtonEl =\n",
              "        document.querySelector('#' + key + ' button');\n",
              "      quickchartButtonEl.disabled = true;  // To prevent multiple clicks.\n",
              "      quickchartButtonEl.classList.add('colab-df-spinner');\n",
              "      try {\n",
              "        const charts = await google.colab.kernel.invokeFunction(\n",
              "            'suggestCharts', [key], {});\n",
              "      } catch (error) {\n",
              "        console.error('Error during call to suggestCharts:', error);\n",
              "      }\n",
              "      quickchartButtonEl.classList.remove('colab-df-spinner');\n",
              "      quickchartButtonEl.classList.add('colab-df-quickchart-complete');\n",
              "    }\n",
              "    (() => {\n",
              "      let quickchartButtonEl =\n",
              "        document.querySelector('#df-27cf5864-7e59-4158-98e8-6977483c0d21 button');\n",
              "      quickchartButtonEl.style.display =\n",
              "        google.colab.kernel.accessAllowed ? 'block' : 'none';\n",
              "    })();\n",
              "  </script>\n",
              "</div>\n",
              "\n",
              "    </div>\n",
              "  </div>\n"
            ],
            "application/vnd.google.colaboratory.intrinsic+json": {
              "type": "dataframe",
              "summary": "{\n  \"name\": \"subdf[[\\\"education_num\\\", \\\"hours_per_week\\\"]]\",\n  \"rows\": 2,\n  \"fields\": [\n    {\n      \"column\": \"education_num\",\n      \"properties\": {\n        \"dtype\": \"number\",\n        \"std\": 1.3530855687809764,\n        \"min\": 4.705337944611544,\n        \"max\": 6.618889907032914,\n        \"samples\": [\n          4.705337944611544,\n          6.618889907032914\n        ],\n        \"num_unique_values\": 2,\n        \"semantic_type\": \"\",\n        \"description\": \"\"\n      }\n    },\n    {\n      \"column\": \"hours_per_week\",\n      \"properties\": {\n        \"dtype\": \"number\",\n        \"std\": 104.4776128846532,\n        \"min\": 4.705337944611544,\n        \"max\": 152.45899505045412,\n        \"samples\": [\n          152.45899505045412,\n          4.705337944611544\n        ],\n        \"num_unique_values\": 2,\n        \"semantic_type\": \"\",\n        \"description\": \"\"\n      }\n    }\n  ]\n}"
            }
          },
          "metadata": {},
          "execution_count": 64
        }
      ]
    },
    {
      "cell_type": "markdown",
      "source": [
        "# Regression"
      ],
      "metadata": {
        "id": "oUmPBE5azzle"
      }
    },
    {
      "cell_type": "markdown",
      "source": [
        "Based on the OLS regression below, we can see that the coef. for *sex* is positive. Since the linear regression in the form of\n",
        "$$\n",
        "\\text{hours_per_week}_i = \\beta_0 + \\beta_1 sex_i + \\varepsilon_i\n",
        "$$\n",
        "where $sex_i$ is $0$ if the observation is female and $1$ if the observation is male. This means that on average men tend to work more hours."
      ],
      "metadata": {
        "id": "sDsEGLMSz33x"
      }
    },
    {
      "cell_type": "code",
      "source": [
        "reg1 = smf.ols(formula=\"hours_per_week ~ sex\", data=income94).fit()\n",
        "print(reg1.summary())"
      ],
      "metadata": {
        "colab": {
          "base_uri": "https://localhost:8080/",
          "height": 0
        },
        "id": "bnmRBOoV1LsO",
        "outputId": "49fbf9f0-7f4f-4a55-ce29-b5a70fb33dcf"
      },
      "execution_count": 65,
      "outputs": [
        {
          "output_type": "stream",
          "name": "stdout",
          "text": [
            "                            OLS Regression Results                            \n",
            "==============================================================================\n",
            "Dep. Variable:         hours_per_week   R-squared:                       0.053\n",
            "Model:                            OLS   Adj. R-squared:                  0.053\n",
            "Method:                 Least Squares   F-statistic:                     1807.\n",
            "Date:                Fri, 16 Feb 2024   Prob (F-statistic):               0.00\n",
            "Time:                        18:30:38   Log-Likelihood:            -1.2716e+05\n",
            "No. Observations:               32561   AIC:                         2.543e+05\n",
            "Df Residuals:                   32559   BIC:                         2.543e+05\n",
            "Df Model:                           1                                         \n",
            "Covariance Type:            nonrobust                                         \n",
            "===============================================================================\n",
            "                  coef    std err          t      P>|t|      [0.025      0.975]\n",
            "-------------------------------------------------------------------------------\n",
            "Intercept      36.4104      0.116    314.412      0.000      36.183      36.637\n",
            "sex[T.Male]     6.0177      0.142     42.510      0.000       5.740       6.295\n",
            "==============================================================================\n",
            "Omnibus:                     2649.390   Durbin-Watson:                   2.019\n",
            "Prob(Omnibus):                  0.000   Jarque-Bera (JB):            13090.867\n",
            "Skew:                           0.239   Prob(JB):                         0.00\n",
            "Kurtosis:                       6.069   Cond. No.                         3.24\n",
            "==============================================================================\n",
            "\n",
            "Notes:\n",
            "[1] Standard Errors assume that the covariance matrix of the errors is correctly specified.\n"
          ]
        }
      ]
    },
    {
      "cell_type": "markdown",
      "source": [
        "Adding *education_num* as a covariate in the linear regression, we see that the p value for the coefficient for *education_num* is < 0.000, thus the test is statistically significant.\n",
        "\n",
        "Furthermore, from the OLS regression analysis, we see that the 95% confidence interval for the coefficient of *education_num* is [0.647, 0.748]."
      ],
      "metadata": {
        "id": "Qqoad70mYqAz"
      }
    },
    {
      "cell_type": "code",
      "source": [
        "reg2 = smf.ols(formula=\"hours_per_week ~ sex + education_num\", data=income94).fit()\n",
        "print(reg2.summary())"
      ],
      "metadata": {
        "colab": {
          "base_uri": "https://localhost:8080/",
          "height": 0
        },
        "id": "wU7Og576yGrq",
        "outputId": "fafc9e35-10d8-4b81-f8ba-463a14b19180"
      },
      "execution_count": 66,
      "outputs": [
        {
          "output_type": "stream",
          "name": "stdout",
          "text": [
            "                            OLS Regression Results                            \n",
            "==============================================================================\n",
            "Dep. Variable:         hours_per_week   R-squared:                       0.074\n",
            "Model:                            OLS   Adj. R-squared:                  0.074\n",
            "Method:                 Least Squares   F-statistic:                     1295.\n",
            "Date:                Fri, 16 Feb 2024   Prob (F-statistic):               0.00\n",
            "Time:                        18:30:38   Log-Likelihood:            -1.2680e+05\n",
            "No. Observations:               32561   AIC:                         2.536e+05\n",
            "Df Residuals:                   32558   BIC:                         2.536e+05\n",
            "Df Model:                           2                                         \n",
            "Covariance Type:            nonrobust                                         \n",
            "=================================================================================\n",
            "                    coef    std err          t      P>|t|      [0.025      0.975]\n",
            "---------------------------------------------------------------------------------\n",
            "Intercept        29.4106      0.281    104.556      0.000      28.859      29.962\n",
            "sex[T.Male]       5.9709      0.140     42.653      0.000       5.697       6.245\n",
            "education_num     0.6975      0.026     27.244      0.000       0.647       0.748\n",
            "==============================================================================\n",
            "Omnibus:                     2783.881   Durbin-Watson:                   2.018\n",
            "Prob(Omnibus):                  0.000   Jarque-Bera (JB):            14492.060\n",
            "Skew:                           0.247   Prob(JB):                         0.00\n",
            "Kurtosis:                       6.231   Cond. No.                         45.6\n",
            "==============================================================================\n",
            "\n",
            "Notes:\n",
            "[1] Standard Errors assume that the covariance matrix of the errors is correctly specified.\n"
          ]
        }
      ]
    },
    {
      "cell_type": "markdown",
      "source": [
        "Adding *gross_income_group* into the linear regression, we see that every variable is still statistically significant by the t-test.\n",
        "\n",
        "Notice that this model has greater R-squared and adjusted R-squared score than the previous two. This means the covariates used in the model explains the variability of the predicted variable better than the previous two."
      ],
      "metadata": {
        "id": "uaq2sQKsw5y0"
      }
    },
    {
      "cell_type": "code",
      "source": [
        "reg3 = smf.ols(formula=\"hours_per_week ~ sex + education_num + gross_income_group\", data=income94).fit()\n",
        "print(reg3.summary())"
      ],
      "metadata": {
        "colab": {
          "base_uri": "https://localhost:8080/",
          "height": 0
        },
        "id": "EFl3GeqD0ukc",
        "outputId": "0a1189e3-bb1f-49b9-cbec-76a6f947c1cf"
      },
      "execution_count": 67,
      "outputs": [
        {
          "output_type": "stream",
          "name": "stdout",
          "text": [
            "                            OLS Regression Results                            \n",
            "==============================================================================\n",
            "Dep. Variable:         hours_per_week   R-squared:                       0.094\n",
            "Model:                            OLS   Adj. R-squared:                  0.094\n",
            "Method:                 Least Squares   F-statistic:                     1130.\n",
            "Date:                Fri, 16 Feb 2024   Prob (F-statistic):               0.00\n",
            "Time:                        18:30:38   Log-Likelihood:            -1.2643e+05\n",
            "No. Observations:               32561   AIC:                         2.529e+05\n",
            "Df Residuals:                   32557   BIC:                         2.529e+05\n",
            "Df Model:                           3                                         \n",
            "Covariance Type:            nonrobust                                         \n",
            "==============================================================================================\n",
            "                                 coef    std err          t      P>|t|      [0.025      0.975]\n",
            "----------------------------------------------------------------------------------------------\n",
            "Intercept                     31.4218      0.288    109.184      0.000      30.858      31.986\n",
            "sex[T.Male]                    5.1010      0.142     35.907      0.000       4.823       5.379\n",
            "gross_income_group[T.>50K]     4.5175      0.166     27.229      0.000       4.192       4.843\n",
            "education_num                  0.4478      0.027     16.632      0.000       0.395       0.501\n",
            "==============================================================================\n",
            "Omnibus:                     2984.190   Durbin-Watson:                   2.015\n",
            "Prob(Omnibus):                  0.000   Jarque-Bera (JB):            15467.160\n",
            "Skew:                           0.296   Prob(JB):                         0.00\n",
            "Kurtosis:                       6.324   Cond. No.                         48.1\n",
            "==============================================================================\n",
            "\n",
            "Notes:\n",
            "[1] Standard Errors assume that the covariance matrix of the errors is correctly specified.\n"
          ]
        }
      ]
    },
    {
      "cell_type": "markdown",
      "source": [
        "#### Interpreting the three models\n",
        "\n",
        "In the three models, the coefficient for *sex* is positive with a value of around 5-6, which in the regression, *sex* is $1$ if the observation is a male. So, our model suggests that men on average tend to work more hours than female.\n",
        "\n",
        "The metrics we can use for deciding on the best model are: R-squared, adjusted R-squared, the max log likelihood, AIC (Akaike Information Criterion), and BIC (Bayesian Information Criterion). Notice that as we add more covariates into the linear regression, these metrics give a better score. We interpret the metric as follows:\n",
        "- R-squared, adjusted R-squared, max log-likelihood, the higher the better. These metrics tests for goodness of fit.\n",
        "- AIC and BIC, the lower the better, these metrics tests for goodness of fit while also taking into account the number of covariates used.\n",
        "\n",
        "From our analysis, the model tend to score better on all metrics as we add more covariates."
      ],
      "metadata": {
        "id": "Koz3I8nPx3D_"
      }
    },
    {
      "cell_type": "markdown",
      "source": [
        "# Own Report"
      ],
      "metadata": {
        "id": "y4kacpggGYUr"
      }
    },
    {
      "cell_type": "markdown",
      "source": [
        "We perform linear regression with covariates *occupation, education_num, sex* and *gross_income_group* and *hours_per_week* as the dependent variable. Notice that most coefficients in our regression is statistically significant considering a threshold of 0.05. Only coefficients for the occupation indicator for armed forces, handler and cleaners, and tech support are not statistically significant.\n",
        "\n",
        "Comparing this model with the previous models, we see that this model score better on the metrics previously discussed."
      ],
      "metadata": {
        "id": "IgKO_hn75Rti"
      }
    },
    {
      "cell_type": "code",
      "source": [
        "model = smf.ols(formula = \"hours_per_week ~ occupation + education_num + sex + gross_income_group\", data=income94).fit()\n",
        "print(model.summary())"
      ],
      "metadata": {
        "colab": {
          "base_uri": "https://localhost:8080/",
          "height": 0
        },
        "id": "jeRshWiEBQ3r",
        "outputId": "db043098-ecbb-40e7-9ded-47e3112c7c0e"
      },
      "execution_count": 68,
      "outputs": [
        {
          "output_type": "stream",
          "name": "stdout",
          "text": [
            "                            OLS Regression Results                            \n",
            "==============================================================================\n",
            "Dep. Variable:         hours_per_week   R-squared:                       0.129\n",
            "Model:                            OLS   Adj. R-squared:                  0.129\n",
            "Method:                 Least Squares   F-statistic:                     284.7\n",
            "Date:                Fri, 16 Feb 2024   Prob (F-statistic):               0.00\n",
            "Time:                        18:30:39   Log-Likelihood:            -1.1776e+05\n",
            "No. Observations:               30718   AIC:                         2.355e+05\n",
            "Df Residuals:                   30701   BIC:                         2.357e+05\n",
            "Df Model:                          16                                         \n",
            "Covariance Type:            nonrobust                                         \n",
            "===================================================================================================\n",
            "                                      coef    std err          t      P>|t|      [0.025      0.975]\n",
            "---------------------------------------------------------------------------------------------------\n",
            "Intercept                          31.2667      0.361     86.566      0.000      30.559      31.975\n",
            "occupation[T.Armed-Forces]          0.7169      3.735      0.192      0.848      -6.604       8.038\n",
            "occupation[T.Craft-repair]          2.5734      0.272      9.465      0.000       2.040       3.106\n",
            "occupation[T.Exec-managerial]       4.0822      0.265     15.420      0.000       3.563       4.601\n",
            "occupation[T.Farming-fishing]       7.9446      0.413     19.238      0.000       7.135       8.754\n",
            "occupation[T.Handlers-cleaners]    -0.6544      0.367     -1.781      0.075      -1.375       0.066\n",
            "occupation[T.Machine-op-inspct]     2.5023      0.320      7.824      0.000       1.875       3.129\n",
            "occupation[T.Other-service]        -2.3704      0.271     -8.747      0.000      -2.902      -1.839\n",
            "occupation[T.Priv-house-serv]      -1.9389      0.939     -2.065      0.039      -3.779      -0.099\n",
            "occupation[T.Prof-specialty]        1.2511      0.270      4.637      0.000       0.722       1.780\n",
            "occupation[T.Protective-serv]       2.5154      0.483      5.208      0.000       1.569       3.462\n",
            "occupation[T.Sales]                 1.4272      0.265      5.392      0.000       0.908       1.946\n",
            "occupation[T.Tech-support]         -0.2627      0.413     -0.636      0.525      -1.073       0.547\n",
            "occupation[T.Transport-moving]      5.1878      0.350     14.817      0.000       4.502       5.874\n",
            "sex[T.Male]                         3.6856      0.155     23.717      0.000       3.381       3.990\n",
            "gross_income_group[T.>50K]          3.7552      0.165     22.786      0.000       3.432       4.078\n",
            "education_num                       0.4530      0.031     14.606      0.000       0.392       0.514\n",
            "==============================================================================\n",
            "Omnibus:                     3350.200   Durbin-Watson:                   2.023\n",
            "Prob(Omnibus):                  0.000   Jarque-Bera (JB):            17673.101\n",
            "Skew:                           0.402   Prob(JB):                         0.00\n",
            "Kurtosis:                       6.628   Cond. No.                         616.\n",
            "==============================================================================\n",
            "\n",
            "Notes:\n",
            "[1] Standard Errors assume that the covariance matrix of the errors is correctly specified.\n"
          ]
        }
      ]
    }
  ]
}